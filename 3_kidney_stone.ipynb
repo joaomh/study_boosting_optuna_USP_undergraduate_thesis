{
 "cells": [
  {
   "cell_type": "markdown",
   "id": "2dad6426",
   "metadata": {},
   "source": [
    "# A Study on Gradient Boosting Algorithms and Hyperparameter Optimization using Optuna\n",
    "\n",
    "Undergraduate Thesis submitted to the Undergraduate Course in Mechatronics Engineering from São Carlos School of Engineering, University of São Paulo – EESC- USP, in partial fulfillment of the requirements for the bachelor degree in Mechatronics Engineer ."
   ]
  },
  {
   "cell_type": "code",
   "execution_count": 111,
   "id": "5818358a",
   "metadata": {},
   "outputs": [],
   "source": [
    "import numpy as np\n",
    "import pandas as pd\n",
    "import xgboost as xgb\n",
    "import sys\n",
    "import timeit\n",
    "import gc\n",
    "import sklearn\n",
    "import seaborn\n",
    "from sklearn import metrics\n",
    "from xgboost import XGBClassifier\n",
    "from catboost import CatBoostClassifier\n",
    "from sklearn.model_selection import train_test_split\n",
    "import lightgbm\n",
    "from lightgbm import LGBMClassifier\n",
    "from sklearn.metrics import roc_auc_score\n",
    "from sklearn.metrics import accuracy_score\n",
    "import optuna\n",
    "from sklearn.model_selection import GridSearchCV\n",
    "import matplotlib.pylab as plt\n",
    "from sklearn.model_selection import cross_val_score\n",
    "from sklearn.model_selection import StratifiedKFold\n",
    "from optuna.visualization import plot_optimization_history\n",
    "from optuna.visualization import plot_param_importances\n",
    "import shap\n",
    "import validation_train\n",
    "from validation_train import auc_logloss_ks\n",
    "from validation_train import objective\n",
    "from validation_train import tuning\n",
    "from validation_train import train\n",
    "pd.set_option('display.float_format', lambda x: '%.3f' % x)"
   ]
  },
  {
   "cell_type": "markdown",
   "id": "a5b5e6af",
   "metadata": {},
   "source": [
    "# 3.0 - Kdney Stone Dataset\n",
    "[Kidney Stone](https://www.kaggle.com/datasets/vuppalaadithyasairam/kidney-stone-prediction-based-on-urine-analysis)"
   ]
  },
  {
   "cell_type": "code",
   "execution_count": 3,
   "id": "51aab606",
   "metadata": {},
   "outputs": [
    {
     "data": {
      "text/html": [
       "<div>\n",
       "<style scoped>\n",
       "    .dataframe tbody tr th:only-of-type {\n",
       "        vertical-align: middle;\n",
       "    }\n",
       "\n",
       "    .dataframe tbody tr th {\n",
       "        vertical-align: top;\n",
       "    }\n",
       "\n",
       "    .dataframe thead th {\n",
       "        text-align: right;\n",
       "    }\n",
       "</style>\n",
       "<table border=\"1\" class=\"dataframe\">\n",
       "  <thead>\n",
       "    <tr style=\"text-align: right;\">\n",
       "      <th></th>\n",
       "      <th>gravity</th>\n",
       "      <th>ph</th>\n",
       "      <th>osmo</th>\n",
       "      <th>cond</th>\n",
       "      <th>urea</th>\n",
       "      <th>calc</th>\n",
       "      <th>target</th>\n",
       "    </tr>\n",
       "  </thead>\n",
       "  <tbody>\n",
       "    <tr>\n",
       "      <th>0</th>\n",
       "      <td>1.021</td>\n",
       "      <td>4.910</td>\n",
       "      <td>725</td>\n",
       "      <td>14.000</td>\n",
       "      <td>443</td>\n",
       "      <td>2.450</td>\n",
       "      <td>0</td>\n",
       "    </tr>\n",
       "    <tr>\n",
       "      <th>1</th>\n",
       "      <td>1.017</td>\n",
       "      <td>5.740</td>\n",
       "      <td>577</td>\n",
       "      <td>20.000</td>\n",
       "      <td>296</td>\n",
       "      <td>4.490</td>\n",
       "      <td>0</td>\n",
       "    </tr>\n",
       "    <tr>\n",
       "      <th>2</th>\n",
       "      <td>1.008</td>\n",
       "      <td>7.200</td>\n",
       "      <td>321</td>\n",
       "      <td>14.900</td>\n",
       "      <td>101</td>\n",
       "      <td>2.360</td>\n",
       "      <td>0</td>\n",
       "    </tr>\n",
       "    <tr>\n",
       "      <th>3</th>\n",
       "      <td>1.011</td>\n",
       "      <td>5.510</td>\n",
       "      <td>408</td>\n",
       "      <td>12.600</td>\n",
       "      <td>224</td>\n",
       "      <td>2.150</td>\n",
       "      <td>0</td>\n",
       "    </tr>\n",
       "    <tr>\n",
       "      <th>4</th>\n",
       "      <td>1.005</td>\n",
       "      <td>6.520</td>\n",
       "      <td>187</td>\n",
       "      <td>7.500</td>\n",
       "      <td>91</td>\n",
       "      <td>1.160</td>\n",
       "      <td>0</td>\n",
       "    </tr>\n",
       "    <tr>\n",
       "      <th>...</th>\n",
       "      <td>...</td>\n",
       "      <td>...</td>\n",
       "      <td>...</td>\n",
       "      <td>...</td>\n",
       "      <td>...</td>\n",
       "      <td>...</td>\n",
       "      <td>...</td>\n",
       "    </tr>\n",
       "    <tr>\n",
       "      <th>74</th>\n",
       "      <td>1.025</td>\n",
       "      <td>7.900</td>\n",
       "      <td>721</td>\n",
       "      <td>23.600</td>\n",
       "      <td>301</td>\n",
       "      <td>9.040</td>\n",
       "      <td>1</td>\n",
       "    </tr>\n",
       "    <tr>\n",
       "      <th>75</th>\n",
       "      <td>1.017</td>\n",
       "      <td>4.810</td>\n",
       "      <td>410</td>\n",
       "      <td>13.300</td>\n",
       "      <td>195</td>\n",
       "      <td>0.580</td>\n",
       "      <td>1</td>\n",
       "    </tr>\n",
       "    <tr>\n",
       "      <th>76</th>\n",
       "      <td>1.024</td>\n",
       "      <td>5.400</td>\n",
       "      <td>803</td>\n",
       "      <td>21.800</td>\n",
       "      <td>394</td>\n",
       "      <td>7.820</td>\n",
       "      <td>1</td>\n",
       "    </tr>\n",
       "    <tr>\n",
       "      <th>77</th>\n",
       "      <td>1.016</td>\n",
       "      <td>6.810</td>\n",
       "      <td>594</td>\n",
       "      <td>21.400</td>\n",
       "      <td>255</td>\n",
       "      <td>12.200</td>\n",
       "      <td>1</td>\n",
       "    </tr>\n",
       "    <tr>\n",
       "      <th>78</th>\n",
       "      <td>1.015</td>\n",
       "      <td>6.030</td>\n",
       "      <td>416</td>\n",
       "      <td>12.800</td>\n",
       "      <td>178</td>\n",
       "      <td>9.390</td>\n",
       "      <td>1</td>\n",
       "    </tr>\n",
       "  </tbody>\n",
       "</table>\n",
       "<p>79 rows × 7 columns</p>\n",
       "</div>"
      ],
      "text/plain": [
       "    gravity    ph  osmo   cond  urea   calc  target\n",
       "0     1.021 4.910   725 14.000   443  2.450       0\n",
       "1     1.017 5.740   577 20.000   296  4.490       0\n",
       "2     1.008 7.200   321 14.900   101  2.360       0\n",
       "3     1.011 5.510   408 12.600   224  2.150       0\n",
       "4     1.005 6.520   187  7.500    91  1.160       0\n",
       "..      ...   ...   ...    ...   ...    ...     ...\n",
       "74    1.025 7.900   721 23.600   301  9.040       1\n",
       "75    1.017 4.810   410 13.300   195  0.580       1\n",
       "76    1.024 5.400   803 21.800   394  7.820       1\n",
       "77    1.016 6.810   594 21.400   255 12.200       1\n",
       "78    1.015 6.030   416 12.800   178  9.390       1\n",
       "\n",
       "[79 rows x 7 columns]"
      ]
     },
     "execution_count": 3,
     "metadata": {},
     "output_type": "execute_result"
    }
   ],
   "source": [
    "df_kindey = pd.read_csv('03_kindey_stone_dataset.csv')\n",
    "df_kindey"
   ]
  },
  {
   "cell_type": "code",
   "execution_count": 4,
   "id": "ab3bc15e",
   "metadata": {},
   "outputs": [
    {
     "data": {
      "text/plain": [
       "Index(['gravity', 'ph', 'osmo', 'cond', 'urea', 'calc', 'target'], dtype='object')"
      ]
     },
     "execution_count": 4,
     "metadata": {},
     "output_type": "execute_result"
    }
   ],
   "source": [
    "# columns name\n",
    "df_kindey.columns"
   ]
  },
  {
   "cell_type": "code",
   "execution_count": 5,
   "id": "237f6f27",
   "metadata": {},
   "outputs": [
    {
     "data": {
      "text/plain": [
       "gravity    float64\n",
       "ph         float64\n",
       "osmo         int64\n",
       "cond       float64\n",
       "urea         int64\n",
       "calc       float64\n",
       "target       int64\n",
       "dtype: object"
      ]
     },
     "execution_count": 5,
     "metadata": {},
     "output_type": "execute_result"
    }
   ],
   "source": [
    "# columns type\n",
    "df_kindey.dtypes"
   ]
  },
  {
   "cell_type": "code",
   "execution_count": 6,
   "id": "adc41f97",
   "metadata": {},
   "outputs": [
    {
     "data": {
      "text/plain": [
       "gravity    0\n",
       "ph         0\n",
       "osmo       0\n",
       "cond       0\n",
       "urea       0\n",
       "calc       0\n",
       "target     0\n",
       "dtype: int64"
      ]
     },
     "execution_count": 6,
     "metadata": {},
     "output_type": "execute_result"
    }
   ],
   "source": [
    "# check for null\n",
    "df_kindey.isnull().sum()"
   ]
  },
  {
   "cell_type": "code",
   "execution_count": 7,
   "id": "b49a246a",
   "metadata": {},
   "outputs": [
    {
     "data": {
      "text/html": [
       "<div>\n",
       "<style scoped>\n",
       "    .dataframe tbody tr th:only-of-type {\n",
       "        vertical-align: middle;\n",
       "    }\n",
       "\n",
       "    .dataframe tbody tr th {\n",
       "        vertical-align: top;\n",
       "    }\n",
       "\n",
       "    .dataframe thead th {\n",
       "        text-align: right;\n",
       "    }\n",
       "</style>\n",
       "<table border=\"1\" class=\"dataframe\">\n",
       "  <thead>\n",
       "    <tr style=\"text-align: right;\">\n",
       "      <th></th>\n",
       "      <th>gravity</th>\n",
       "      <th>ph</th>\n",
       "      <th>osmo</th>\n",
       "      <th>cond</th>\n",
       "      <th>urea</th>\n",
       "      <th>calc</th>\n",
       "      <th>target</th>\n",
       "    </tr>\n",
       "  </thead>\n",
       "  <tbody>\n",
       "    <tr>\n",
       "      <th>count</th>\n",
       "      <td>79.000</td>\n",
       "      <td>79.000</td>\n",
       "      <td>79.000</td>\n",
       "      <td>79.000</td>\n",
       "      <td>79.000</td>\n",
       "      <td>79.000</td>\n",
       "      <td>79.000</td>\n",
       "    </tr>\n",
       "    <tr>\n",
       "      <th>mean</th>\n",
       "      <td>1.018</td>\n",
       "      <td>6.028</td>\n",
       "      <td>612.848</td>\n",
       "      <td>20.814</td>\n",
       "      <td>266.405</td>\n",
       "      <td>4.139</td>\n",
       "      <td>0.430</td>\n",
       "    </tr>\n",
       "    <tr>\n",
       "      <th>std</th>\n",
       "      <td>0.007</td>\n",
       "      <td>0.724</td>\n",
       "      <td>237.515</td>\n",
       "      <td>7.939</td>\n",
       "      <td>131.255</td>\n",
       "      <td>3.260</td>\n",
       "      <td>0.498</td>\n",
       "    </tr>\n",
       "    <tr>\n",
       "      <th>min</th>\n",
       "      <td>1.005</td>\n",
       "      <td>4.760</td>\n",
       "      <td>187.000</td>\n",
       "      <td>5.100</td>\n",
       "      <td>10.000</td>\n",
       "      <td>0.170</td>\n",
       "      <td>0.000</td>\n",
       "    </tr>\n",
       "    <tr>\n",
       "      <th>25%</th>\n",
       "      <td>1.012</td>\n",
       "      <td>5.530</td>\n",
       "      <td>413.000</td>\n",
       "      <td>14.150</td>\n",
       "      <td>160.000</td>\n",
       "      <td>1.460</td>\n",
       "      <td>0.000</td>\n",
       "    </tr>\n",
       "    <tr>\n",
       "      <th>50%</th>\n",
       "      <td>1.018</td>\n",
       "      <td>5.940</td>\n",
       "      <td>594.000</td>\n",
       "      <td>21.400</td>\n",
       "      <td>260.000</td>\n",
       "      <td>3.160</td>\n",
       "      <td>0.000</td>\n",
       "    </tr>\n",
       "    <tr>\n",
       "      <th>75%</th>\n",
       "      <td>1.023</td>\n",
       "      <td>6.385</td>\n",
       "      <td>792.000</td>\n",
       "      <td>26.550</td>\n",
       "      <td>372.000</td>\n",
       "      <td>5.930</td>\n",
       "      <td>1.000</td>\n",
       "    </tr>\n",
       "    <tr>\n",
       "      <th>max</th>\n",
       "      <td>1.040</td>\n",
       "      <td>7.940</td>\n",
       "      <td>1236.000</td>\n",
       "      <td>38.000</td>\n",
       "      <td>620.000</td>\n",
       "      <td>14.340</td>\n",
       "      <td>1.000</td>\n",
       "    </tr>\n",
       "  </tbody>\n",
       "</table>\n",
       "</div>"
      ],
      "text/plain": [
       "       gravity     ph     osmo   cond    urea   calc  target\n",
       "count   79.000 79.000   79.000 79.000  79.000 79.000  79.000\n",
       "mean     1.018  6.028  612.848 20.814 266.405  4.139   0.430\n",
       "std      0.007  0.724  237.515  7.939 131.255  3.260   0.498\n",
       "min      1.005  4.760  187.000  5.100  10.000  0.170   0.000\n",
       "25%      1.012  5.530  413.000 14.150 160.000  1.460   0.000\n",
       "50%      1.018  5.940  594.000 21.400 260.000  3.160   0.000\n",
       "75%      1.023  6.385  792.000 26.550 372.000  5.930   1.000\n",
       "max      1.040  7.940 1236.000 38.000 620.000 14.340   1.000"
      ]
     },
     "execution_count": 7,
     "metadata": {},
     "output_type": "execute_result"
    }
   ],
   "source": [
    "df_kindey.describe()"
   ]
  },
  {
   "cell_type": "code",
   "execution_count": 8,
   "id": "4c79f53e",
   "metadata": {},
   "outputs": [
    {
     "data": {
      "image/png": "[encoded data removed]",
      "text/plain": [
       "<Figure size 640x480 with 1 Axes>"
      ]
     },
     "metadata": {},
     "output_type": "display_data"
    }
   ],
   "source": [
    "seaborn.countplot(x = 'target',data = df_kindey)\n",
    "plt.savefig('kindey_tot.png')"
   ]
  },
  {
   "cell_type": "code",
   "execution_count": 9,
   "id": "7d100ac6",
   "metadata": {},
   "outputs": [
    {
     "data": {
      "text/plain": [
       "<Figure size 2500x2500 with 0 Axes>"
      ]
     },
     "metadata": {},
     "output_type": "display_data"
    },
    {
     "data": {
      "image/png": "[encoded data removed]",
      "text/plain": [
       "<Figure size 640x480 with 6 Axes>"
      ]
     },
     "metadata": {},
     "output_type": "display_data"
    }
   ],
   "source": [
    "plt.figure(figsize = (25,25))\n",
    "df_kindey[['gravity', 'ph', 'osmo', 'cond', 'urea', 'calc']].hist()\n",
    "plt.tight_layout()\n",
    "plt.savefig('hist_kindey_t.png')"
   ]
  },
  {
   "cell_type": "code",
   "execution_count": 10,
   "id": "3860f44a",
   "metadata": {},
   "outputs": [
    {
     "data": {
      "text/plain": [
       "<Figure size 2500x2500 with 0 Axes>"
      ]
     },
     "metadata": {},
     "output_type": "display_data"
    },
    {
     "data": {
      "image/png": "[encoded data removed]",
      "text/plain": [
       "<Figure size 640x480 with 6 Axes>"
      ]
     },
     "metadata": {},
     "output_type": "display_data"
    }
   ],
   "source": [
    "plt.figure(figsize = (25,25))\n",
    "df_kindey[['gravity', 'ph', 'osmo', 'cond', 'urea', 'calc']].loc[df_kindey['target']==1].hist()\n",
    "plt.tight_layout()\n",
    "plt.savefig('hist_kindey_yes.png')"
   ]
  },
  {
   "cell_type": "code",
   "execution_count": 11,
   "id": "7ea16453",
   "metadata": {},
   "outputs": [
    {
     "data": {
      "text/plain": [
       "<Figure size 2500x2500 with 0 Axes>"
      ]
     },
     "metadata": {},
     "output_type": "display_data"
    },
    {
     "data": {
      "image/png": "[encoded data removed]",
      "text/plain": [
       "<Figure size 640x480 with 6 Axes>"
      ]
     },
     "metadata": {},
     "output_type": "display_data"
    }
   ],
   "source": [
    "plt.figure(figsize = (25,25))\n",
    "df_kindey[['gravity', 'ph', 'osmo', 'cond', 'urea', 'calc']].loc[df_kindey['target']==0].hist()\n",
    "plt.tight_layout()\n",
    "plt.savefig('hist_kindey_no.png')"
   ]
  },
  {
   "cell_type": "markdown",
   "id": "b8a725e9",
   "metadata": {},
   "source": [
    "## XGBoost"
   ]
  },
  {
   "cell_type": "code",
   "execution_count": 14,
   "id": "9b202a74",
   "metadata": {},
   "outputs": [
    {
     "data": {
      "text/plain": [
       "Index(['gravity', 'ph', 'osmo', 'cond', 'urea', 'calc'], dtype='object')"
      ]
     },
     "execution_count": 14,
     "metadata": {},
     "output_type": "execute_result"
    }
   ],
   "source": [
    "var_cols = df_kindey.drop(columns='target').columns\n",
    "var_cols"
   ]
  },
  {
   "cell_type": "code",
   "execution_count": 17,
   "id": "b166ff81",
   "metadata": {},
   "outputs": [
    {
     "data": {
      "text/plain": [
       "((55, 6), (24, 6), (55,), (24,))"
      ]
     },
     "execution_count": 17,
     "metadata": {},
     "output_type": "execute_result"
    }
   ],
   "source": [
    "X = df_kindey.loc[:,var_cols]\n",
    "y = df_kindey.loc[:,'target']\n",
    "\n",
    "X_train, X_test, y_train, y_test = train_test_split(X, y, test_size=0.3, random_state=42)\n",
    "X_train.shape, X_test.shape, y_train.shape, y_test.shape "
   ]
  },
  {
   "cell_type": "code",
   "execution_count": 100,
   "id": "3a532205",
   "metadata": {},
   "outputs": [],
   "source": [
    "parameters = {\n",
    "        'learning_rate': 0.3,\n",
    "        'max_depth': 3,\n",
    "        'lambda': 0.05\n",
    "}"
   ]
  },
  {
   "cell_type": "code",
   "execution_count": 101,
   "id": "972aaf86",
   "metadata": {},
   "outputs": [],
   "source": [
    "XGBoost_class = XGBClassifier(**parameters)"
   ]
  },
  {
   "cell_type": "code",
   "execution_count": 102,
   "id": "8d5271f2",
   "metadata": {},
   "outputs": [
    {
     "data": {
      "text/plain": [
       "0.0994029080029577"
      ]
     },
     "execution_count": 102,
     "metadata": {},
     "output_type": "execute_result"
    }
   ],
   "source": [
    "start = timeit.default_timer()\n",
    "XGBoost_model = XGBoost_class.fit(X_train, y_train)\n",
    "stop = timeit.default_timer()\n",
    "stop - start"
   ]
  },
  {
   "cell_type": "code",
   "execution_count": 103,
   "id": "dda81ed8",
   "metadata": {},
   "outputs": [
    {
     "data": {
      "text/plain": [
       "(0.6428571428571429, 11.513025414649002, 0.2857142857142857)"
      ]
     },
     "execution_count": 103,
     "metadata": {},
     "output_type": "execute_result"
    }
   ],
   "source": [
    "y_prob = XGBoost_model.predict(X_test)\n",
    "auc_logloss_ks(y_test, y_prob)"
   ]
  },
  {
   "cell_type": "markdown",
   "id": "4807b473",
   "metadata": {},
   "source": [
    "### XGBoost using optuna"
   ]
  },
  {
   "cell_type": "code",
   "execution_count": 1,
   "id": "5ec1946c",
   "metadata": {},
   "outputs": [],
   "source": [
    "XGBoost_model = train(X_train, y_train, X_test, y_test, balanced='balanced', method='XGBoost')"
   ]
  },
  {
   "cell_type": "markdown",
   "id": "f26779ff",
   "metadata": {},
   "source": [
    "## CatBoost"
   ]
  },
  {
   "cell_type": "code",
   "execution_count": 92,
   "id": "2acf67ec",
   "metadata": {},
   "outputs": [],
   "source": [
    "parameters = {\n",
    "        'learning_rate': 0.3,\n",
    "        'depth': 3,\n",
    "        'l2_leaf_reg': 0.05\n",
    "}"
   ]
  },
  {
   "cell_type": "code",
   "execution_count": 93,
   "id": "0c647de4",
   "metadata": {},
   "outputs": [],
   "source": [
    "CatBoost_Classifier = CatBoostClassifier(**parameters)"
   ]
  },
  {
   "cell_type": "code",
   "execution_count": 94,
   "id": "eae60d7c",
   "metadata": {},
   "outputs": [
    {
     "data": {
      "text/plain": [
       "0.27348275200347416"
      ]
     },
     "execution_count": 94,
     "metadata": {},
     "output_type": "execute_result"
    }
   ],
   "source": [
    "# Fit model\n",
    "start = timeit.default_timer()\n",
    "CatBoost_model = CatBoost_Classifier.fit(X_train, y_train,verbose=False)\n",
    "stop = timeit.default_timer()\n",
    "stop - start"
   ]
  },
  {
   "cell_type": "code",
   "execution_count": 95,
   "id": "8141d98c",
   "metadata": {},
   "outputs": [
    {
     "data": {
      "text/plain": [
       "(0.7428571428571428, 8.634794048406446, 0.48571428571428565)"
      ]
     },
     "execution_count": 95,
     "metadata": {},
     "output_type": "execute_result"
    }
   ],
   "source": [
    "y_prob = CatBoost_model.predict(X_test)\n",
    "auc_logloss_ks(y_test, y_prob)"
   ]
  },
  {
   "cell_type": "markdown",
   "id": "b32792dc",
   "metadata": {},
   "source": [
    "## CatBoost using Optuna"
   ]
  },
  {
   "cell_type": "code",
   "execution_count": 117,
   "id": "5eae662e",
   "metadata": {},
   "outputs": [],
   "source": [
    "CatBoost_model = train(X_train, y_train, X_test, y_test, balanced='balanced', method='CATBoost')"
   ]
  },
  {
   "cell_type": "markdown",
   "id": "fb4b3592",
   "metadata": {},
   "source": [
    "## LightGBM"
   ]
  },
  {
   "cell_type": "code",
   "execution_count": 84,
   "id": "93addf93",
   "metadata": {},
   "outputs": [],
   "source": [
    "parameters = {\n",
    "        'learning_rate': 0.3,\n",
    "        'max_depth': 3,\n",
    "        'lambda_l2': 0.05\n",
    "}"
   ]
  },
  {
   "cell_type": "code",
   "execution_count": 85,
   "id": "10132547",
   "metadata": {},
   "outputs": [],
   "source": [
    "LGBM_Classifier = LGBMClassifier(**parameters)"
   ]
  },
  {
   "cell_type": "code",
   "execution_count": 86,
   "id": "3bd7433a",
   "metadata": {},
   "outputs": [
    {
     "name": "stdout",
     "output_type": "stream",
     "text": [
      "[LightGBM] [Warning] lambda_l2 is set=0.05, reg_lambda=0.0 will be ignored. Current value: lambda_l2=0.05\n"
     ]
    },
    {
     "data": {
      "text/plain": [
       "0.06458719800139079"
      ]
     },
     "execution_count": 86,
     "metadata": {},
     "output_type": "execute_result"
    }
   ],
   "source": [
    "start = timeit.default_timer()\n",
    "LGBM_model = LGBM_Classifier.fit(X_train, y_train)\n",
    "stop = timeit.default_timer()\n",
    "stop - start"
   ]
  },
  {
   "cell_type": "code",
   "execution_count": 87,
   "id": "959e9eb2",
   "metadata": {},
   "outputs": [
    {
     "data": {
      "text/plain": [
       "(0.7285714285714286, 8.634760731846853, 0.45714285714285713)"
      ]
     },
     "execution_count": 87,
     "metadata": {},
     "output_type": "execute_result"
    }
   ],
   "source": [
    "y_prob = LGBM_model.predict(X_test)\n",
    "auc_logloss_ks(y_test,y_prob)"
   ]
  },
  {
   "cell_type": "markdown",
   "id": "6bc4e442",
   "metadata": {},
   "source": [
    "## LGBM using Optuna"
   ]
  },
  {
   "cell_type": "code",
   "execution_count": 118,
   "id": "d200c6ed",
   "metadata": {},
   "outputs": [],
   "source": [
    "LGBM_model = train(X_train, y_train, X_test, y_test, balanced='balanced', method='LGBM')"
   ]
  },
  {
   "cell_type": "markdown",
   "id": "478e0e37",
   "metadata": {},
   "source": [
    "# SHAP for model with best perfom"
   ]
  },
  {
   "cell_type": "code",
   "execution_count": 113,
   "id": "40ba6a92",
   "metadata": {},
   "outputs": [
    {
     "name": "stderr",
     "output_type": "stream",
     "text": [
      "ntree_limit is deprecated, use `iteration_range` or model slicing instead.\n"
     ]
    }
   ],
   "source": [
    "explainer = shap.TreeExplainer(XGBoost_model)\n",
    "shap_values = explainer.shap_values(X_train)"
   ]
  },
  {
   "cell_type": "code",
   "execution_count": 115,
   "id": "a2400d98",
   "metadata": {},
   "outputs": [
    {
     "data": {
      "image/png": "[encoded data removed]",
      "text/plain": [
       "<Figure size 800x390 with 2 Axes>"
      ]
     },
     "metadata": {},
     "output_type": "display_data"
    }
   ],
   "source": [
    "shap.summary_plot(shap_values, X_train,show=False)\n",
    "plt.savefig('shap_kidney.png')"
   ]
  },
  {
   "cell_type": "markdown",
   "id": "41040432",
   "metadata": {},
   "source": [
    "## Default Results"
   ]
  },
  {
   "cell_type": "markdown",
   "id": "190b74cc",
   "metadata": {},
   "source": [
    "||\tXGBoost|CatBoost|\tLightGBM|\n",
    "|---|---|---|---|\n",
    "AUC|\t0.60714|\t0.72857\t|0.72857|\n",
    "logloss\t|12.95217\t|8.63476\t|8.63476\n",
    "KS\t|0.21429\t|0.45714\t|0.45714\n",
    "time (s)\t|0.08901\t|0.47443|\t0.05795|"
   ]
  },
  {
   "cell_type": "markdown",
   "id": "6796f51c",
   "metadata": {},
   "source": [
    "## Optuna results (1h tuning for each model)"
   ]
  },
  {
   "cell_type": "markdown",
   "id": "89c0e6e5",
   "metadata": {},
   "source": [
    "\t\t\t\n",
    "||\tXGBoost|CatBoost|\tLightGBM|\n",
    "|---|---|---|---|\n",
    "AUC|\t0.87857\t|0.84286\t|0.86786|\n",
    "logloss\t|0.51145\t|0.64940\t|0.46334|\n",
    "KS\t|0.72857\t|0.67143\t|0.61429|"
   ]
  }
 ],
 "metadata": {
  "kernelspec": {
   "display_name": "Python 3 (ipykernel)",
   "language": "python",
   "name": "python3"
  },
  "language_info": {
   "codemirror_mode": {
    "name": "ipython",
    "version": 3
   },
   "file_extension": ".py",
   "mimetype": "text/x-python",
   "name": "python",
   "nbconvert_exporter": "python",
   "pygments_lexer": "ipython3",
   "version": "3.9.13"
  }
 },
 "nbformat": 4,
 "nbformat_minor": 5
}
